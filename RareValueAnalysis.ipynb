{
 "cells": [
  {
   "cell_type": "code",
   "execution_count": null,
   "outputs": [],
   "source": [
    "%matplotlib inline\n",
    "import pandas as pd\n",
    "\n",
    "import numpy as np\n",
    "\n",
    "import matplotlib.pyplot as plt\n",
    "\n",
    "from matplotlib.ticker import MaxNLocator\n",
    "\n",
    "from IPython.display import display\n",
    "\n",
    "import re"
   ]
  },
  {
   "cell_type": "code",
   "execution_count": null,
   "metadata": {
    "ExecuteTime": {
     "end_time": "2019-05-06T13:12:21.959794Z",
     "start_time": "2019-05-06T13:12:21.947272Z"
    }
   },
   "outputs": [],
   "source": [
    "col_names  = [\"Street\",  \"Street_batch\", \"Street_cluster\"]\n",
    "filename = \"blog_streets.csv.gz\"\n",
    "\n",
    "\n",
    "# filename = \"Pays.xlsx\"\n",
    "# col_names = [\"Pays\", \"Pays_clean\"] \n"
   ]
  },
  {
   "cell_type": "markdown",
   "metadata": {
    "ExecuteTime": {
     "end_time": "2019-02-26T12:27:53.574328Z",
     "start_time": "2019-02-26T12:27:53.570804Z"
    }
   },
   "source": [
    "# Functions"
   ]
  },
  {
   "cell_type": "markdown",
   "metadata": {
    "ExecuteTime": {
     "end_time": "2019-04-26T07:58:32.558083Z",
     "start_time": "2019-04-26T07:58:32.552126Z"
    }
   },
   "source": [
    "## Val_count"
   ]
  },
  {
   "cell_type": "code",
   "execution_count": null,
   "metadata": {
    "ExecuteTime": {
     "end_time": "2019-05-06T13:05:08.361300Z",
     "start_time": "2019-05-06T13:05:08.265080Z"
    }
   },
   "outputs": [],
   "source": [
    "def get_val_count(filename, col_name):\n",
    "    if \".csv\" in filename: df = pd.read_csv(filename, usecols = [col_name])\n",
    "    elif \".xlsx\" in filename: \n",
    "        df = pd.read_excel(filename)\n",
    "        df = df[[col_name]]\n",
    "        \n",
    "    else: df = pd.read_table(filename, usecols = [col_name])\n",
    "    print(col_name, \":\")\n",
    "    \n",
    "    print(\" - Number of records: {} ({} non empty)\".format(df.shape[0], df[df[col_name].fillna(\"\").astype(str).str.len()>0].shape[0]))\n",
    "    \n",
    "    print(\" - Number of (distinct) values: \", df[col_name].nunique())\n",
    "    print(\" - Number of empty values: \", df[df[col_name].fillna(\"\").str.len()==0].shape[0])\n",
    "    \n",
    "    \n",
    "    \n",
    "    val_counts = df[col_name].value_counts().reset_index(drop=True).reset_index()\n",
    "    val_counts[\"index\"] = val_counts[\"index\"]+1\n",
    "    val_counts = val_counts.reset_index(drop = True)\n",
    "\n",
    "    val_counts[\"cum_sum\"] = val_counts[col_name].cumsum()\n",
    "    \n",
    "    first_one = val_counts[val_counts[col_name] == 1].first_valid_index()\n",
    "    if first_one: \n",
    "        print(\" - Number of 1's: \", val_counts[\"index\"].max()-first_one +1)\n",
    "\n",
    "    val_counts = val_counts.rename(columns={\"index\":\"ValueId\", \"cum_sum\":\"#CumRecords\", col_name:\"#Records\"}).set_index(\"ValueId\")\n",
    "    val_counts.name = col_name\n",
    "    return val_counts\n",
    "    "
   ]
  },
  {
   "cell_type": "code",
   "execution_count": null,
   "metadata": {
    "ExecuteTime": {
     "end_time": "2019-05-06T13:05:08.746517Z",
     "start_time": "2019-05-06T13:05:08.368207Z"
    }
   },
   "outputs": [],
   "source": [
    "def plot_val_count(val_counts, ax=None, color=\"C0\", rot=-45, scale_val= False, figsize=(15,10), stats = [10, 100, \"med_y\", \"med_x\", \"p_90\",\"t_1\", \"t_2\", \"max\"], drawstyle=\"steps-post\"):\n",
    "\n",
    "    \n",
    "    def add_lines(ax, val_counts, x, title):\n",
    "        global all_xy_labels\n",
    "        \n",
    "        line_color = color \n",
    "        y = val_counts.loc[x][\"#CumRecords\"]\n",
    "        \n",
    "\n",
    "        ax.plot([x, x], [0, y], color=line_color, linestyle=':', marker='x', markevery=(1, 2), linewidth=1)\n",
    "        ax.plot([0, x], [y, y], color=line_color, linestyle=':', linewidth=1)\n",
    "        \n",
    "        \n",
    "        ax.text(x- max_x * 0.02 , y - np.sign(rot)*max_y * 0.02, \"{} ({:.2f}%)\".format(int(y), (y/max_y)*100), \n",
    "                color=color, ha='right', va=\"bottom\" if rot<0 else \"top\", bbox=dict(facecolor='white', alpha=0.9,  edgecolor='none'), rotation=rot)\n",
    "        \n",
    "        ax.text(x, - max_y * 0.1, \"{}: {} ({:.2f}%)\".format(title, int(x), (x/max_x)*100), \n",
    "                color=color, ha='right', va=\"top\", bbox=dict(facecolor='white', alpha=0.9,  edgecolor='none'), rotation=45)\n",
    "       \n",
    "        return (\"{:12}\".format(title), \"{:6} ({:6.2f}%) /  {:6} ({:6.2f}%)\".format(int(x), (x/max_x)*100,int(y), (y/max_y)*100))\n",
    "\n",
    "    label = val_counts.name\n",
    "    val_counts = pd.concat([pd.DataFrame({\"ValueId\":[0.99999], \"#Records\":[0], \"#CumRecords\":0}).set_index(\"ValueId\"), val_counts], sort=False)#.reset_index(drop = True)\n",
    "    \n",
    "    \n",
    "    if scale_val:\n",
    "        val_counts = val_counts.set_index(val_counts.index/val_counts.index.max())\n",
    "    max_x = val_counts.index.max()\n",
    "    max_y = val_counts[\"#CumRecords\"].max()\n",
    "    \n",
    "    if ax is None:\n",
    "        xlim = (1 - max_x/20.0, max_x*1.05)\n",
    "        \n",
    "    else: \n",
    "        xlim = (min(ax.get_xlim()[0], 1 - max_x/20.0), max(ax.get_xlim()[1], max_x*1.05))\n",
    "        \n",
    "    \n",
    "    ax = val_counts.plot(y=\"#CumRecords\", figsize=figsize, ax=ax, color=color, label = label, drawstyle=drawstyle, xlim = xlim )\n",
    "    ax.xaxis.set_major_locator(MaxNLocator(integer=True))\n",
    "\n",
    "    stat_legend = []\n",
    "    for stat in stats: \n",
    "        m_perc = re.match(\"^p_([0-9]+)$\", str(stat))\n",
    "        m_tail = re.match(\"^t_([0-9]+)$\", str(stat))\n",
    "        \n",
    "        if stat == \"med_y\":\n",
    "            median_y = val_counts[val_counts[\"#CumRecords\"] > val_counts[\"#CumRecords\"].max()*0.5].first_valid_index()\n",
    "            stat_legend.append(add_lines(ax, val_counts, median_y, \"Median Y\"))\n",
    "\n",
    "        elif stat == \"med_x\":\n",
    "            median_x = max_x // 2 # val_counts[\"index\".shape[0]//2\n",
    "            stat_legend.append(add_lines(ax, val_counts, median_x, \"Median X\"))\n",
    "\n",
    "\n",
    "        elif m_perc:\n",
    "            val = int(m_perc.group(1))\n",
    "            perc_y = val_counts[val_counts[\"#CumRecords\"] > val_counts[\"#CumRecords\"].max()*val/100.0].first_valid_index()\n",
    "            stat_legend.append(add_lines(ax, val_counts, perc_y, \"Perc \"+str(val)+\"% (Y)\"))\n",
    "\n",
    "\n",
    "        elif stat == \"max\":\n",
    "            stat_legend.append(add_lines(ax, val_counts, max_x, \"Max\"))\n",
    "\n",
    "        elif m_tail:\n",
    "            val = int(m_tail.group(1))\n",
    "\n",
    "            tail = val_counts[val_counts[\"#Records\"] == val].first_valid_index()\n",
    "            if tail:\n",
    "                 stat_legend.append(add_lines(ax, val_counts, tail, str(val)+\"'s\"))\n",
    "\n",
    "        elif str(stat).isdigit():\n",
    "            i = int(stat)\n",
    "            if i < max_x:\n",
    "                stat_legend.append(add_lines(ax, val_counts, i, str(i)))\n",
    "        \n",
    "    return ax, pd.DataFrame(columns=[\"stat\", label], data=stat_legend).set_index(\"stat\")\n"
   ]
  },
  {
   "cell_type": "code",
   "execution_count": null,
   "metadata": {
    "ExecuteTime": {
     "end_time": "2019-05-06T13:05:08.791614Z",
     "start_time": "2019-05-06T13:05:08.753304Z"
    }
   },
   "outputs": [],
   "source": [
    "def plot_ratio(vc1, vc2, ax=None, op=\"div\", figsize=None, color=None, xlim=None, xtics=None):\n",
    "\n",
    "    vc_both = vc1[[\"#CumRecords\"]].merge(vc2[[\"#CumRecords\"]], right_index=True, left_index=True, how=\"outer\")\n",
    "    vc_both = vc_both.fillna(method='ffill')\n",
    "    \n",
    "    if op == \"div\":\n",
    "        vc_both[op] =vc_both[\"#CumRecords_x\"]/ vc_both[\"#CumRecords_y\"]\n",
    "        \n",
    "    if op == \"der\": # kind of derivative\n",
    "        \n",
    "        vc_both[op] =(vc_both[\"#CumRecords_x\"]- vc_both[\"#CumRecords_y\"]).rolling(500).mean().diff(-50)\n",
    "\n",
    "    elif op == \"sub\": \n",
    "        vc_both[op] =vc_both[\"#CumRecords_y\"] -  vc_both[\"#CumRecords_x\"]\n",
    "    \n",
    "    ax = vc_both.plot(y=op, ax=ax, figsize=figsize, label = \"{} {} {}\".format(vc1.name, \"-\" if op == \"sub\" else \"vs (\"+op+\")\", vc2.name) , color=color, \n",
    "                      xlim=xlim, ylim=(-50, None) if op==\"der\" else None)\n",
    "    if xtics is not None:\n",
    "\n",
    "        ax.set_xticks(xtics[1:-1])\n",
    "    return ax\n"
   ]
  },
  {
   "cell_type": "code",
   "execution_count": null,
   "metadata": {
    "ExecuteTime": {
     "end_time": "2019-05-06T13:05:08.864913Z",
     "start_time": "2019-05-06T13:05:08.798048Z"
    }
   },
   "outputs": [],
   "source": [
    "def compare_val_counts(vcs, stats = [10, 100, \"med_y\", \"med_x\", \"p_90\",\"t_1\", \"t_2\", \"max\"]):\n",
    "    fig, axes = plt.subplots(4, 1,  figsize=(10, 10), gridspec_kw = {'height_ratios':[5, 1, 2,2 ] }, squeeze=False)\n",
    "    \n",
    "    colors = [\"C0\", \"C1\", \"C2\", \"C3\", \"C4\", \"C5\"]\n",
    "        \n",
    "    \n",
    "    stat_legends = None\n",
    "    for i in range(len(vcs)):\n",
    "        ax, stat_legend = plot_val_count(vcs[i], ax=axes[0,0], color = colors[i % len(colors)], figsize=None, stats = stats)\n",
    "\n",
    "        stat_legends = stat_legend if stat_legends is None else stat_legends.merge(stat_legend, left_index=True, right_index=True, how= \"outer\")\n",
    "        \n",
    "\n",
    "    for i, vc in enumerate(vcs[1:]):\n",
    "        \n",
    "        \n",
    "        plot_ratio(  vcs[i], vc, op=\"sub\", ax= axes[2,0], color=colors[i+1], xlim = axes[0,0].get_xlim(), xtics = axes[0,0].get_xticks())\n",
    "        \n",
    "        plot_ratio(  vcs[0], vc, op=\"sub\", ax= axes[3,0], color=colors[i+1], xlim = axes[0,0].get_xlim(), xtics = axes[0,0].get_xticks())\n",
    "        \n",
    "    \n",
    "    plt.tight_layout()\n",
    "    axes[1, 0].axis('off')\n",
    "    \n",
    "    axes[0, 0].set_zorder(100)\n",
    "    \n",
    "    return fig, stat_legends"
   ]
  },
  {
   "cell_type": "markdown",
   "metadata": {},
   "source": [
    "## Val_count_distrib"
   ]
  },
  {
   "cell_type": "code",
   "execution_count": null,
   "metadata": {
    "ExecuteTime": {
     "end_time": "2019-05-06T13:05:08.886344Z",
     "start_time": "2019-05-06T13:05:08.871217Z"
    }
   },
   "outputs": [],
   "source": [
    "def val_count_distrib(vc):\n",
    "    vc = vc.groupby(\"#Records\")[\"#Records\"].sum()\n",
    "    \n",
    "    vc = vc.reindex(range(1, vc.index.max()+1)).fillna(0).astype(int)\n",
    "    vc = vc.rename(\"nbrec\").reset_index().rename(columns={\"#Records\": \"#Values\", \"nbrec\":\"#Records\"})\n",
    "    vc[\"#DistinctValues\"]= (vc[\"#Records\"]/vc[\"#Values\"]).astype(int)\n",
    "    return vc\n",
    "    "
   ]
  },
  {
   "cell_type": "markdown",
   "metadata": {
    "ExecuteTime": {
     "end_time": "2019-03-21T11:18:39.207562Z",
     "start_time": "2019-03-21T11:18:39.201792Z"
    }
   },
   "source": [
    "# Analysis"
   ]
  },
  {
   "cell_type": "code",
   "execution_count": null,
   "metadata": {
    "ExecuteTime": {
     "end_time": "2019-05-06T13:12:27.735574Z",
     "start_time": "2019-05-06T13:12:26.792126Z"
    },
    "scrolled": true
   },
   "outputs": [],
   "source": [
    "if \".csv\" in filename: \n",
    "    df = pd.read_csv(filename, usecols = col_names)\n",
    "elif \".xlsx\" in filename: \n",
    "    df = pd.read_excel(filename, usecols = col_names)\n",
    "\n",
    "else: df = pd.read_table(filename)\n",
    "\n",
    "df"
   ]
  },
  {
   "cell_type": "code",
   "execution_count": null,
   "metadata": {
    "ExecuteTime": {
     "end_time": "2019-05-06T13:12:32.316180Z",
     "start_time": "2019-05-06T13:12:31.751070Z"
    },
    "scrolled": true
   },
   "outputs": [],
   "source": [
    "print(\"Number of occurences per tuple of values : \") \n",
    "df[col_names].reset_index().groupby(col_names).count().sort_values(\"index\", ascending=False)#.reset_index()"
   ]
  },
  {
   "cell_type": "code",
   "execution_count": null,
   "metadata": {
    "ExecuteTime": {
     "end_time": "2019-05-06T13:12:59.967299Z",
     "start_time": "2019-05-06T13:12:59.505804Z"
    },
    "scrolled": true
   },
   "outputs": [],
   "source": [
    "print(\"Number of occurrence per columns\")\n",
    "for col_name in col_names:\n",
    "    print(col_name, \":\")\n",
    "    display(df[col_name].value_counts().reset_index())\n",
    "    print(\"\\n\\n\")"
   ]
  },
  {
   "cell_type": "code",
   "execution_count": null,
   "metadata": {
    "ExecuteTime": {
     "end_time": "2019-05-06T13:13:06.255850Z",
     "start_time": "2019-05-06T13:13:04.046657Z"
    }
   },
   "outputs": [],
   "source": [
    "val_counts = []\n",
    "for col_name in col_names:\n",
    "    val_counts.append(get_val_count(filename, col_name))"
   ]
  },
  {
   "cell_type": "markdown",
   "metadata": {
    "ExecuteTime": {
     "end_time": "2019-05-02T10:51:58.839505Z",
     "start_time": "2019-05-02T10:51:58.830872Z"
    }
   },
   "source": [
    "## Plots"
   ]
  },
  {
   "cell_type": "code",
   "execution_count": null,
   "metadata": {
    "ExecuteTime": {
     "end_time": "2019-05-06T13:13:23.398733Z",
     "start_time": "2019-05-06T13:13:21.495747Z"
    },
    "scrolled": false
   },
   "outputs": [],
   "source": [
    "val_count_fig, val_count_tbl = compare_val_counts(val_counts, stats = [\"t_1\", \"max\"])\n",
    "val_count_tbl.fillna(\"[NA]\")"
   ]
  },
  {
   "cell_type": "code",
   "execution_count": null,
   "metadata": {
    "ExecuteTime": {
     "end_time": "2019-05-06T13:13:27.716060Z",
     "start_time": "2019-05-06T13:13:26.497294Z"
    },
    "scrolled": false
   },
   "outputs": [],
   "source": [
    "val_count_fig.savefig(\"plot.svg\")\n",
    "val_count_fig.savefig(\"plot.png\")\n"
   ]
  }
 ],
 "metadata": {
  "kernelspec": {
   "display_name": "Python [default]",
   "language": "python",
   "name": "python3"
  },
  "language_info": {
   "codemirror_mode": {
    "name": "ipython",
    "version": 3
   },
   "file_extension": ".py",
   "mimetype": "text/x-python",
   "name": "python",
   "nbconvert_exporter": "python",
   "pygments_lexer": "ipython3",
   "version": "3.5.2"
  },
  "toc": {
   "base_numbering": 1,
   "nav_menu": {
    "height": "336px",
    "width": "252px"
   },
   "navigate_menu": true,
   "number_sections": true,
   "sideBar": false,
   "skip_h1_title": false,
   "threshold": 4,
   "title_cell": "Table of Contents",
   "title_sidebar": "Contents",
   "toc_cell": false,
   "toc_position": {
    "height": "878px",
    "left": "1654.97px",
    "right": "20px",
    "top": "136.969px",
    "width": "211.969px"
   },
   "toc_section_display": true,
   "toc_window_display": false
  }
 },
 "nbformat": 4,
 "nbformat_minor": 2
}
